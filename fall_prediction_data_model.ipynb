{
 "cells": [
  {
   "cell_type": "code",
   "execution_count": 1,
   "metadata": {},
   "outputs": [],
   "source": [
    "import pandas as pd\n",
    "import numpy as np\n",
    "import matplotlib.pyplot as plt\n",
    "from sklearn.linear_model import LinearRegression\n",
    "from sklearn.model_selection import train_test_split\n",
    "from sklearn.metrics import mean_squared_error\n",
    "from sklearn.metrics import confusion_matrix\n",
    "from sklearn.preprocessing import MinMaxScaler\n",
    "from sklearn.cluster import KMeans\n",
    "from sklearn.ensemble import RandomForestClassifier\n",
    "from sklearn.datasets import make_classification"
   ]
  },
  {
   "cell_type": "code",
   "execution_count": 2,
   "metadata": {},
   "outputs": [],
   "source": [
    "# DATA LOADING\n",
    "X = pd.read_csv('cStick.csv')\n",
    "X.columns = ['Distance', 'Pressure', 'HRV', 'Sugar level', 'SpO2', 'Accelerometer','Decision']\n",
    "y = X['Decision']\n",
    "X = X.drop('Decision', axis=1)\n",
    "X_train, X_test, y_train, y_test = train_test_split(X, y, test_size=0.2, random_state=42)"
   ]
  },
  {
   "cell_type": "code",
   "execution_count": 3,
   "metadata": {},
   "outputs": [
    {
     "name": "stdout",
     "output_type": "stream",
     "text": [
      "[[0.22863349 0.5        0.52939366 0.1890214  0.57514379 1.        ]\n",
      " [0.32508824 0.5        0.60557094 0.2687648  0.65953988 1.        ]\n",
      " [0.85537503 0.         0.23022468 0.38454041 0.87771943 0.        ]\n",
      " ...\n",
      " [0.15489919 0.5        0.47116036 0.128062   0.51062766 1.        ]\n",
      " [0.26378588 0.5        0.55715605 0.21808344 0.60590148 1.        ]\n",
      " [0.37138652 0.5        0.64213604 0.30704164 0.70005001 1.        ]]\n"
     ]
    }
   ],
   "source": [
    "# NORMALIZATION USING MIN-MAX SCALER\n",
    "scaler = MinMaxScaler()\n",
    "X_train = scaler.fit_transform(X_train)\n",
    "X_test = scaler.transform(X_test)\n",
    "\n",
    "# PRINT DATA TABLES\n",
    "print(X_train)\n"
   ]
  },
  {
   "cell_type": "code",
   "execution_count": 4,
   "metadata": {},
   "outputs": [
    {
     "data": {
      "image/png": "[encoded data removed]",
      "text/plain": [
       "<Figure size 640x480 with 6 Axes>"
      ]
     },
     "metadata": {},
     "output_type": "display_data"
    }
   ],
   "source": [
    "# FEATURE RELEVANCE TESTING\n",
    "fig, axs = plt.subplots(2, 3)\n",
    "axs[0, 0].scatter(X_train[:,0], y_train)\n",
    "axs[0, 0].set_title('Pressure')\n",
    "axs[0, 1].scatter(X_train[:,1], y_train)\n",
    "axs[0, 1].set_title('HRV')\n",
    "axs[0, 2].scatter(X_train[:,2], y_train)\n",
    "axs[0, 2].set_title('Sugar level')\n",
    "axs[1, 0].scatter(X_train[:,3], y_train)\n",
    "axs[1, 0].set_title('SpO2')\n",
    "axs[1, 1].scatter(X_train[:,4], y_train)\n",
    "axs[1, 1].set_title('Accelerometer')\n",
    "axs[1, 2].scatter(X_train[:,5], y_train)\n",
    "axs[1, 2].set_title('Distance')\n",
    "plt.tight_layout()\n",
    "plt.show()"
   ]
  },
  {
   "cell_type": "code",
   "execution_count": 5,
   "metadata": {},
   "outputs": [],
   "source": [
    "# LINEAR REGRESSION MODEL\n",
    "model = LinearRegression()\n",
    "model.fit(X_train, y_train)\n",
    "y_pred_linear = model.predict(X_test)\n",
    "\n",
    "# K-MEANS CLUSTERING MODEL\n",
    "kmeans = KMeans(n_clusters=3, n_init=10, max_iter=300, random_state=42)\n",
    "kmeans.fit(X_train)\n",
    "y_pred_kmeans = kmeans.predict(X_test)\n",
    "\n",
    "# RANDOM FOREST CLASSIFIER\n",
    "X_train, y_train = make_classification(n_samples=len(X_train), n_features=6,n_informative=2, n_redundant=0,random_state=0, shuffle=False)\n",
    "clf = RandomForestClassifier(max_depth=4, random_state=0, criterion='gini')\n",
    "clf.fit(X_train, y_train)\n",
    "y_pred_forest = clf.predict(X_test)\n",
    "\n"
   ]
  },
  {
   "cell_type": "code",
   "execution_count": 6,
   "metadata": {},
   "outputs": [
    {
     "name": "stdout",
     "output_type": "stream",
     "text": [
      "Linear Model Evaluation\n",
      "MSE: 7.062822692647614e-31\n",
      "Confusion matrix: \n",
      " [[142   0   0]\n",
      " [  0 128   0]\n",
      " [  0   0 138]]\n",
      "\n",
      "K-means clustering Evaluation\n",
      "MSE: 0.17892156862745098\n",
      "Confusion matrix: \n",
      " [[142   0   0]\n",
      " [  0 128   0]\n",
      " [  0  73  65]]\n",
      "\n",
      "Random Forest Evaluation\n",
      "MSE: 0.6862745098039216\n",
      "0.3137254901960784\n",
      "Confusion matrix: \n",
      " [[  0 142   0]\n",
      " [  0 128   0]\n",
      " [  0 138   0]]\n"
     ]
    }
   ],
   "source": [
    "# EVALUATION\n",
    "# Linear model\n",
    "print(\"Linear Model Evaluation\")\n",
    "print('MSE:', mean_squared_error(y_test, y_pred_linear))\n",
    "# print confusion matrix\n",
    "y_pred_linear = np.round(y_pred_linear)\n",
    "print('Confusion matrix: \\n',confusion_matrix(y_test, y_pred_linear, labels=[0, 1, 2]))\n",
    "\n",
    "# K-means model\n",
    "print('\\nK-means clustering Evaluation')\n",
    "print('MSE:', mean_squared_error(y_test, y_pred_kmeans))\n",
    "print('Confusion matrix: \\n',confusion_matrix(y_test, y_pred_kmeans, labels=[0, 1, 2]))\n",
    "\n",
    "# Random forest model\n",
    "print('\\nRandom Forest Evaluation')\n",
    "print('MSE:', mean_squared_error(y_test, y_pred_forest))\n",
    "print(clf.score(X_test, y_test))\n",
    "print('Confusion matrix: \\n',confusion_matrix(y_test, y_pred_forest, labels=[0, 1, 2]))\n",
    "\n"
   ]
  }
 ],
 "metadata": {
  "kernelspec": {
   "display_name": "Python 3 (ipykernel)",
   "language": "python",
   "name": "python3"
  },
  "language_info": {
   "codemirror_mode": {
    "name": "ipython",
    "version": 3
   },
   "file_extension": ".py",
   "mimetype": "text/x-python",
   "name": "python",
   "nbconvert_exporter": "python",
   "pygments_lexer": "ipython3",
   "version": "3.10.13"
  }
 },
 "nbformat": 4,
 "nbformat_minor": 2
}
