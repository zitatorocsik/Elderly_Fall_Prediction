{
 "cells": [
  {
   "cell_type": "code",
   "execution_count": 259,
   "metadata": {},
   "outputs": [],
   "source": [
    "import pandas as pd\n",
    "import numpy as np\n",
    "import matplotlib.pyplot as plt\n",
    "from sklearn.linear_model import LinearRegression\n",
    "from sklearn.model_selection import train_test_split\n",
    "from sklearn.metrics import mean_squared_error\n",
    "from sklearn.metrics import confusion_matrix\n"
   ]
  },
  {
   "cell_type": "code",
   "execution_count": 260,
   "metadata": {},
   "outputs": [],
   "source": [
    "# create a linear model and test it on the data\n",
    "def linear_model(x, y):\n",
    "    # create a linear model\n",
    "    model = LinearRegression()\n",
    "    # fit the model to the data\n",
    "    model.fit(x, y)\n",
    "    # return the model\n",
    "    return model\n",
    "\n",
    "# create a polynomial model and test it on the data\n",
    "def polynomial_model(x, y, degree):\n",
    "    # create a polynomial model\n",
    "    model = np.poly1d(np.polyfit(x, y, degree))\n",
    "    # return the model\n",
    "    return model\n",
    "\n",
    "# import data and split into training and testing data\n",
    "df = pd.read_csv(\"cStick.csv\")\n",
    "df.columns = ['Distance', 'Pressure', 'HRV', 'Sugar level', 'SpO2', 'Accelerometer','Decision']\n",
    "y = df['Decision']\n",
    "X = df\n",
    "X = X.drop('Decision', axis=1)\n",
    "X_train, X_test, y_train, y_test = train_test_split(X, y, test_size=0.2, random_state=42)\n",
    "\n"
   ]
  },
  {
   "cell_type": "code",
   "execution_count": 263,
   "metadata": {},
   "outputs": [
    {
     "name": "stdout",
     "output_type": "stream",
     "text": [
      "Linear Model Mean Squared Error: 1.8398120427311192e-29\n",
      "Accuracy of linear model:  1.0\n",
      "[[142   0   0]\n",
      " [  0 128   0]\n",
      " [  0   0 138]]\n"
     ]
    }
   ],
   "source": [
    "# run linear model\n",
    "linear = linear_model(X_train, y_train)\n",
    "# run polynomial model\n",
    "# polynomial = polynomial_model(X_train, y_train, 3)\n",
    "# test models\n",
    "y_pred = linear.predict(X_test)\n",
    "# y_pred_poly = polynomial.\n",
    "# print the mean squared error\n",
    "print('Linear Model Mean Squared Error:', mean_squared_error(y_test, y_pred))\n",
    "# accuracy of linear model\n",
    "print('Accuracy of linear model: ', linear.score(X_test, y_test))\n",
    "\n",
    "# confusion matrix for linear model\n",
    "y_pred = np.round(y_pred)\n",
    "conf_matrix = confusion_matrix(y_test, y_pred)\n",
    "print(conf_matrix)\n",
    "# print('Polynomial Model Mean Squared Error:', mean_squared_error(y_test, y_pred_poly))\n"
   ]
  }
 ],
 "metadata": {
  "kernelspec": {
   "display_name": "Python 3 (ipykernel)",
   "language": "python",
   "name": "python3"
  },
  "language_info": {
   "codemirror_mode": {
    "name": "ipython",
    "version": 3
   },
   "file_extension": ".py",
   "mimetype": "text/x-python",
   "name": "python",
   "nbconvert_exporter": "python",
   "pygments_lexer": "ipython3",
   "version": "3.10.13"
  }
 },
 "nbformat": 4,
 "nbformat_minor": 2
}
